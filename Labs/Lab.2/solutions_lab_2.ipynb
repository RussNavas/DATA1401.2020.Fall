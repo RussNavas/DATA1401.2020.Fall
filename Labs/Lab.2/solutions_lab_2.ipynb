{
  "nbformat": 4,
  "nbformat_minor": 0,
  "metadata": {
    "colab": {
      "name": "Copy of Lab-2.ipynb",
      "provenance": [],
      "collapsed_sections": []
    },
    "kernelspec": {
      "display_name": "Python 3",
      "language": "python",
      "name": "python3"
    },
    "language_info": {
      "codemirror_mode": {
        "name": "ipython",
        "version": 3
      },
      "file_extension": ".py",
      "mimetype": "text/x-python",
      "name": "python",
      "nbconvert_exporter": "python",
      "pygments_lexer": "ipython3",
      "version": "3.8.0"
    }
  },
  "cells": [
    {
      "cell_type": "markdown",
      "metadata": {
        "id": "uk7yc0nadBGa"
      },
      "source": [
        "# Lab 2\n",
        "\n",
        "[![Open In Colab](https://colab.research.google.com/assets/colab-badge.svg)](https://github.com/UTA-DataScience/DATA1401.2020.Fall/blob/master/Labs/Lab.2/Lab.2.ipynb)\n",
        "\n",
        "\n"
      ]
    },
    {
      "cell_type": "markdown",
      "metadata": {
        "id": "u9RAhs5b4vXY"
      },
      "source": [
        "\n",
        "## Make your fork private\n",
        "\n",
        "Navigate your fork of the course repository on GitHub and click the \"gear\" icon to change the settings. Select \"Options\" on the left and scroll all the way down. Then click on \"Make Private\" to make your repository private. \n",
        "\n",
        "Next select the collaborators on the left and add your Professor as a collaborator. "
      ]
    },
    {
      "cell_type": "markdown",
      "metadata": {
        "id": "q-gMWiE4dBG_"
      },
      "source": [
        "## Python Programming\n",
        "\n",
        "In the remainder of this lab you will practice python by solving some simple exercises. \n",
        "\n",
        "*Exercise 1:* Write 2 functions `even(x)` and `odd(x)` that take an integer and returns True if the input is even or odd, otherwise returns False. Use cell below for your solution. Use the subsequent cell to demonstrate that your solution works. Feel free to add additional cell as needed using the \"+\" button on the button bar above. "
      ]
    },
    {
      "cell_type": "code",
      "metadata": {
        "id": "jwN5jff1dBG_"
      },
      "source": [
        "# Write you solution here\n",
        "\n",
        "def even(num):\n",
        "  if num % 2 == 0:\n",
        "    return True\n",
        "  else:\n",
        "    return False\n",
        "def odd(num):\n",
        "  return num % 2 == 1"
      ],
      "execution_count": null,
      "outputs": []
    },
    {
      "cell_type": "code",
      "metadata": {
        "id": "xNJAcodhdBHB",
        "outputId": "82600e98-165e-43b6-8734-ebba89b19ee3",
        "colab": {
          "base_uri": "https://localhost:8080/",
          "height": 104
        }
      },
      "source": [
        "# Test your solution here\n",
        "print(\"Even test, even input:\", even(2))\n",
        "print(\"Even test, odd input:\", even(221))\n",
        "\n",
        "print(\"Odd test, even input:\", odd(2))\n",
        "print(\"Odd test, odd input:\", odd(221))\n",
        "\n",
        "\n",
        "\n"
      ],
      "execution_count": null,
      "outputs": [
        {
          "output_type": "stream",
          "text": [
            "Even test, even input: True\n",
            "Even test, odd input: False\n",
            "Odd test, even input: False\n",
            "Odd test, odd input: True\n"
          ],
          "name": "stdout"
        }
      ]
    },
    {
      "cell_type": "markdown",
      "metadata": {
        "id": "KL_pyzG8dBHD"
      },
      "source": [
        "*Exercise 2:* Write a function that takes a list of numbers as input and returns a list of the subset of elements that are less that 10. Test your solution."
      ]
    },
    {
      "cell_type": "code",
      "metadata": {
        "id": "g8nt0wnldBHE"
      },
      "source": [
        "# Write you solution here\n",
        "\n",
        "def less_than_ten(lst):\n",
        "  out_lst = list()\n",
        "  for element in lst:\n",
        "    if element < 10:\n",
        "      out_lst.append(element)\n",
        "\n",
        "  return out_lst"
      ],
      "execution_count": null,
      "outputs": []
    },
    {
      "cell_type": "code",
      "metadata": {
        "id": "__HTUWA1dBHH",
        "outputId": "71147e59-6325-4fc6-a962-a2cc95183d0e",
        "colab": {
          "base_uri": "https://localhost:8080/",
          "height": 54
        }
      },
      "source": [
        "# Test your solution here\n",
        "\n",
        "less_than_ten([1,2,3,4,5,6,22,33,44])"
      ],
      "execution_count": null,
      "outputs": [
        {
          "output_type": "execute_result",
          "data": {
            "text/plain": [
              "[1, 2, 3, 4, 5, 6]"
            ]
          },
          "metadata": {
            "tags": []
          },
          "execution_count": 10
        }
      ]
    },
    {
      "cell_type": "markdown",
      "metadata": {
        "id": "T0cx91JudBHK"
      },
      "source": [
        "*Exercise 3:* Write a function that takes a number `x_max` as input and returns a function that performs the same task as exercise 2, but for `x_max` instead of 10."
      ]
    },
    {
      "cell_type": "code",
      "metadata": {
        "id": "PqummMcmdBHK"
      },
      "source": [
        "# Write you solution here\n",
        "\n",
        "def x_max_filter():\n",
        "# int for max value\n",
        "    x_max = int(input(\"Type a maximum integer value:\"))\n",
        "    \n",
        "    # take a user defined list to filter using x_max\n",
        "    user_lst = []\n",
        "    \n",
        "    # number of elements in list\n",
        "    n = int(input(\"Enter number of elements in list:\"))\n",
        "    \n",
        "    #iterating till the range\n",
        "    for i in range (0, n):\n",
        "        item = int(input())\n",
        "        \n",
        "        #adding the element to list\n",
        "        user_lst.append(item)\n",
        "        \n",
        "    # this fnc sets up the output list based on the user input\n",
        "    def less_than_x_max(user_lst):\n",
        "      out_lst = list()\n",
        "      for element in user_lst:\n",
        "        if element < x_max:\n",
        "          out_lst.append(element)\n",
        "    \n",
        "      return out_lst\n",
        "    \n",
        "    #print out the filtered list\n",
        "    print(less_than_x_max(user_lst))\n",
        "x_max_filter()\n",
        "\n",
        "  \n",
        "\n",
        "\n",
        "\n",
        "\n",
        "\n",
        "\n"
      ],
      "execution_count": null,
      "outputs": []
    },
    {
      "cell_type": "code",
      "metadata": {
        "id": "evRYemjXdBHN",
        "outputId": "d096edf4-52ff-4a64-d20d-7dff0cb3a5c9",
        "colab": {
          "base_uri": "https://localhost:8080/",
          "height": 187
        }
      },
      "source": [
        "# Test your solution here\n",
        "x_max_filter()"
      ],
      "execution_count": null,
      "outputs": [
        {
          "output_type": "stream",
          "text": [
            "Type a maximum integer value:13\n",
            "Enter number of elements in list:7\n",
            "11\n",
            "23\n",
            "10\n",
            "2\n",
            "5\n",
            "44\n",
            "7\n",
            "[11, 10, 2, 5, 7]\n"
          ],
          "name": "stdout"
        }
      ]
    },
    {
      "cell_type": "markdown",
      "metadata": {
        "id": "h0I8M27LdBHP"
      },
      "source": [
        "*Exercise 4:* Write a function that takes an interger as input and returns a list of all divisors of that number."
      ]
    },
    {
      "cell_type": "code",
      "metadata": {
        "id": "k6GUpDyrdBHP",
        "outputId": "ece45de4-9dee-4622-ddda-b10d7e31f632",
        "colab": {
          "base_uri": "https://localhost:8080/",
          "height": 119
        }
      },
      "source": [
        "# Write you solution here\n",
        "#take an integer from user and store it as an integer in a variable n\n",
        "\n",
        "n = int(input(\"Type an integer:\"))\n",
        "\n",
        "def divisors(n):\n",
        "\n",
        "#make a for loop from numbers 1 to n\n",
        "#if statement to check if the number divided by i gives 0 implies divisor of int\n",
        "#print out the results\n",
        "\n",
        "    print(\"The divisors of the Integer are:\")\n",
        "    for i in range(1,n+1):\n",
        "      if(n % i == 0):\n",
        "        print(i)\n",
        "divisors(n)\n"
      ],
      "execution_count": null,
      "outputs": [
        {
          "output_type": "stream",
          "text": [
            "Type an integer:55\n",
            "The divisors of the Integer are:\n",
            "1\n",
            "5\n",
            "11\n",
            "55\n"
          ],
          "name": "stdout"
        }
      ]
    },
    {
      "cell_type": "code",
      "metadata": {
        "id": "YDvRmft-dBHR",
        "outputId": "299802e0-28dd-4cff-acab-86c33e6f6cce",
        "colab": {
          "base_uri": "https://localhost:8080/",
          "height": 136
        }
      },
      "source": [
        "# Test your solution here\n",
        "divisors(75)"
      ],
      "execution_count": null,
      "outputs": [
        {
          "output_type": "stream",
          "text": [
            "The divisors of the Integer are:\n",
            "1\n",
            "3\n",
            "5\n",
            "15\n",
            "25\n",
            "75\n"
          ],
          "name": "stdout"
        }
      ]
    },
    {
      "cell_type": "markdown",
      "metadata": {
        "id": "IOWnLMvxdBHT"
      },
      "source": [
        "*Exercise 5:* Write a function that takes 2 lists as input and returns a list that contains only the elements that are common between the lists (without duplicates). Make sure your program works on two lists of different sizes."
      ]
    },
    {
      "cell_type": "code",
      "metadata": {
        "id": "tR31bnTDdBHT",
        "outputId": "98d1639b-8a20-4f06-f37a-cacba0464e12",
        "colab": {
          "base_uri": "https://localhost:8080/",
          "height": 221
        }
      },
      "source": [
        "# Write you solution here\n",
        "# Fnc that compares 2 list and outputs a list of common elements no dupes\n",
        "def lst_comparison():\n",
        "    \n",
        "    def lst_collect():\n",
        "    \n",
        "        \n",
        "        usr_lst1 = []\n",
        "        n = int(input(\"List 1 Enter number of elements in list:\"))\n",
        "        for i in range (0, n):\n",
        "            i = int(input())\n",
        "            usr_lst1.append(i)\n",
        "        \n",
        "    \n",
        "        \n",
        "        usr_lst2 = []\n",
        "        n = int(input(\"List 2 Enter number of elements in list:\"))\n",
        "        for e in range (0, n):\n",
        "            e = int(input())\n",
        "            usr_lst2.append(e)\n",
        "            \n",
        "        print([i for i, j in zip(usr_lst1, usr_lst2) if i==j])\n",
        "    return lst_collect()\n",
        "    lst_collect()\n",
        "\n",
        "    \n",
        "     \n",
        "lst_comparison()"
      ],
      "execution_count": null,
      "outputs": [
        {
          "output_type": "stream",
          "text": [
            "List 1 Enter number of elements in list:3\n",
            "1\n",
            "2\n",
            "3\n",
            "List 2 Enter number of elements in list:6\n",
            "1\n",
            "2\n",
            "3\n",
            "44\n",
            "55\n",
            "66\n",
            "[1, 2, 3]\n"
          ],
          "name": "stdout"
        }
      ]
    },
    {
      "cell_type": "code",
      "metadata": {
        "id": "IJDf6ebYdBHV",
        "outputId": "9087cdd1-e4c8-4bfa-e016-4c33e53080cd",
        "colab": {
          "base_uri": "https://localhost:8080/",
          "height": 272
        }
      },
      "source": [
        "# Test your solution here\n",
        "lst_comparison()"
      ],
      "execution_count": null,
      "outputs": [
        {
          "output_type": "stream",
          "text": [
            "List 1 Enter number of elements in list:4\n",
            "1\n",
            "2\n",
            "3\n",
            "4\n",
            "List 2 Enter number of elements in list:8\n",
            "1\n",
            "2\n",
            "3\n",
            "4\n",
            "5\n",
            "6\n",
            "7\n",
            "8\n",
            "[1, 2, 3, 4]\n"
          ],
          "name": "stdout"
        }
      ]
    },
    {
      "cell_type": "markdown",
      "metadata": {
        "id": "3vA7M9pldBHX"
      },
      "source": [
        "*Exercise 6:* Write a function that reads takes a string and returns `True` if the string is a palindrome. (A palindrome is a string that reads the same forwards and backwards.)"
      ]
    },
    {
      "cell_type": "code",
      "metadata": {
        "id": "ncyMDzp6dBHX",
        "outputId": "3e66f4d0-7059-4ffd-ce8b-30fa6eef01a6",
        "colab": {
          "base_uri": "https://localhost:8080/",
          "height": 51
        }
      },
      "source": [
        "# Write you solution here\n",
        "\n",
        "def palindrome():\n",
        "    def palindrome_check(w):\n",
        "        #slice string backwards and compare with forward \n",
        "        return w == w[::-1]\n",
        "     \n",
        "     #take word to check form user\n",
        "    w = input('Type word to check if it is a palindrome:')\n",
        "    ans = palindrome_check(w)\n",
        " #if match true if not false\n",
        "    if ans:\n",
        "        print(\"True\")\n",
        "    else:\n",
        "        print(\"False\")\n",
        "palindrome()"
      ],
      "execution_count": null,
      "outputs": [
        {
          "output_type": "stream",
          "text": [
            "Type word to check if it is a palindrome:anna\n",
            "True\n"
          ],
          "name": "stdout"
        }
      ]
    },
    {
      "cell_type": "code",
      "metadata": {
        "id": "v5cmVQ6MdBHZ",
        "outputId": "076fd852-3905-4149-b27c-2dac47768073",
        "colab": {
          "base_uri": "https://localhost:8080/",
          "height": 85
        }
      },
      "source": [
        "# Test your solution here\n",
        "palindrome()\n",
        "\n",
        "palindrome()"
      ],
      "execution_count": null,
      "outputs": [
        {
          "output_type": "stream",
          "text": [
            "Type word to check if it is a palindrome:anna\n",
            "True\n",
            "Type word to check if it is a palindrome:bat\n",
            "False\n"
          ],
          "name": "stdout"
        }
      ]
    },
    {
      "cell_type": "markdown",
      "metadata": {
        "id": "fT35xwandBHc"
      },
      "source": [
        "*Exercise 7:* Write a Rock-Paper-Scissors game function, that takes 2 strings, the inputs of player 1 and player 2, and output 1 or 2 corresponding to which player wins, or 0 if draw.\n",
        "\n",
        "Implement a Rock-Paper-Scissors game by soliciting input from 2 players, testing with this function, and repeating if there is a draw.\n",
        "\n",
        "Remember the rules:\n",
        "\n",
        "* Rock beats scissors\n",
        "* Scissors beats paper\n",
        "* Paper beats rock"
      ]
    },
    {
      "cell_type": "code",
      "metadata": {
        "id": "U1_HxxaWdBHd",
        "outputId": "ba6acbc1-6114-4dcd-e2bb-89d63908dce4",
        "colab": {
          "base_uri": "https://localhost:8080/",
          "height": 68
        }
      },
      "source": [
        "# Write you solution here\n",
        "def RPS():\n",
        "\n",
        "    player1 = False\n",
        "\n",
        "    while player1 == False:\n",
        "\n",
        "        player1 = input(\"Rock, Paper, Scissors?\")\n",
        "        player2 = input(\"Rock, Paper, Scissors?\")\n",
        "        if player1 == player2:\n",
        "            print(\"0\")\n",
        "        elif player1 == \"Rock\":\n",
        "            if player2 == \"Paper\":\n",
        "                print(\"2\")\n",
        "            else:\n",
        "                print(\"1\")\n",
        "        elif player1 == \"Paper\":\n",
        "            if player2 == \"Scissors\":\n",
        "                print(\"2\")\n",
        "            else:\n",
        "                print(\"1\")\n",
        "        elif player1 == \"Scissors\":\n",
        "            if player2 == \"Rock\":\n",
        "                print(\"2\")\n",
        "            else:\n",
        "                print(\"1\")\n",
        "        else:\n",
        "            print(\"Check your spelling!\")\n",
        "        #Set Player 1 to False to loop the game, True for Single\n",
        "        player1 = True\n",
        "RPS()"
      ],
      "execution_count": null,
      "outputs": [
        {
          "output_type": "stream",
          "text": [
            "Rock, Paper, Scissors?Rock\n",
            "Rock, Paper, Scissors?Rock\n",
            "0\n"
          ],
          "name": "stdout"
        }
      ]
    },
    {
      "cell_type": "code",
      "metadata": {
        "id": "ooR2ldZBdBHf",
        "outputId": "31572015-973c-4f6a-e14a-6093b439ec08",
        "colab": {
          "base_uri": "https://localhost:8080/",
          "height": 221
        }
      },
      "source": [
        "# Test your solution here\n",
        "RPS()\n",
        "\n",
        "RPS()\n",
        "\n",
        "RPS()\n",
        "\n",
        "RPS()"
      ],
      "execution_count": null,
      "outputs": [
        {
          "output_type": "stream",
          "text": [
            "Rock, Paper, Scissors?Rock\n",
            "Rock, Paper, Scissors?Rock\n",
            "0\n",
            "Rock, Paper, Scissors?Paper\n",
            "Rock, Paper, Scissors?Rock\n",
            "1\n",
            "Rock, Paper, Scissors?Paper\n",
            "Rock, Paper, Scissors?Scissors\n",
            "2\n",
            "Rock, Paper, Scissors?ppr\n",
            "Rock, Paper, Scissors?Rock\n",
            "Check your spelling!\n"
          ],
          "name": "stdout"
        }
      ]
    },
    {
      "cell_type": "markdown",
      "metadata": {
        "id": "dJQzXNKzdBHh"
      },
      "source": [
        "*Exercise 8:* Write a function that takes a integer `n` as input and \n",
        "outputs a list of the first `n` Fibonnaci numbers.\n",
        "\n",
        "The Fibonnaci seqence is a sequence of numbers where the next number in the sequence is the sum of the previous two numbers in the sequence. The sequence looks like this: 1, 1, 2, 3, 5, 8, 13, …)"
      ]
    },
    {
      "cell_type": "code",
      "metadata": {
        "id": "G_4ooRXTdBHh",
        "outputId": "a9fde9c2-8322-4314-ba15-ba5ff596e288",
        "colab": {
          "base_uri": "https://localhost:8080/",
          "height": 102
        }
      },
      "source": [
        "# Write you solution here\n",
        "def fibseq():\n",
        "    \n",
        "    fibonacci_cache = {}\n",
        "    \n",
        "    n = int(input(\"Choose length of sequence:\"))\n",
        "    \n",
        "    def fibonacci(n):\n",
        "        # If we have cached the value, then return it if n in fibonacci_cache:\\\n",
        "            #return fibonacci_cache[n]\n",
        "        # Compute the Nth term\n",
        "        \n",
        "        if n == 1:\n",
        "            value = 1\n",
        "        elif n == 2:\n",
        "            value = 1\n",
        "        elif n > 2:\n",
        "            value = fibonacci (n-1) + fibonacci (n-2)\n",
        "            \n",
        "        # Cache the value and return it\n",
        "        fibonacci_cache[n] = value\n",
        "        return value\n",
        "    for n in range (1, n+1):\n",
        "        print(n, \":\", fibonacci(n))\n",
        "fibseq()"
      ],
      "execution_count": null,
      "outputs": [
        {
          "output_type": "stream",
          "text": [
            "Choose length of sequence:4\n",
            "1 : 1\n",
            "2 : 1\n",
            "3 : 2\n",
            "4 : 3\n"
          ],
          "name": "stdout"
        }
      ]
    },
    {
      "cell_type": "code",
      "metadata": {
        "id": "rzK5FskJdBHj",
        "outputId": "2f284710-d213-4120-8d78-98c99e69a0a2",
        "colab": {
          "base_uri": "https://localhost:8080/",
          "height": 544
        }
      },
      "source": [
        "# Test your solution here\n",
        "\n",
        "fibseq()"
      ],
      "execution_count": null,
      "outputs": [
        {
          "output_type": "stream",
          "text": [
            "Choose length of sequence:30\n",
            "1 : 1\n",
            "2 : 1\n",
            "3 : 2\n",
            "4 : 3\n",
            "5 : 5\n",
            "6 : 8\n",
            "7 : 13\n",
            "8 : 21\n",
            "9 : 34\n",
            "10 : 55\n",
            "11 : 89\n",
            "12 : 144\n",
            "13 : 233\n",
            "14 : 377\n",
            "15 : 610\n",
            "16 : 987\n",
            "17 : 1597\n",
            "18 : 2584\n",
            "19 : 4181\n",
            "20 : 6765\n",
            "21 : 10946\n",
            "22 : 17711\n",
            "23 : 28657\n",
            "24 : 46368\n",
            "25 : 75025\n",
            "26 : 121393\n",
            "27 : 196418\n",
            "28 : 317811\n",
            "29 : 514229\n",
            "30 : 832040\n"
          ],
          "name": "stdout"
        }
      ]
    },
    {
      "cell_type": "markdown",
      "metadata": {
        "id": "q6c_AskadBHl"
      },
      "source": [
        "*Exercise 9:* Write a function that takes a string of consisting of several words and returns a string that reverses the order of the words.\n"
      ]
    },
    {
      "cell_type": "code",
      "metadata": {
        "id": "aJdXX6FHdBHl",
        "outputId": "27aeff6d-55a1-45d1-b824-d0038de2379e",
        "colab": {
          "base_uri": "https://localhost:8080/",
          "height": 51
        }
      },
      "source": [
        "# Write you solution here\n",
        "\n",
        "def reverse_words():\n",
        "    \n",
        "    s = input(\"Enter string of words:\")\n",
        "    r = ' '.join(reversed(s.split(' ')))\n",
        "\n",
        "    print(r)\n",
        "\n",
        "reverse_words()"
      ],
      "execution_count": null,
      "outputs": [
        {
          "output_type": "stream",
          "text": [
            "Enter string of words:One Two Three\n",
            "Three Two One\n"
          ],
          "name": "stdout"
        }
      ]
    },
    {
      "cell_type": "code",
      "metadata": {
        "id": "nQyhnLZ_dBHn",
        "outputId": "c74c6007-a24b-4586-b250-fc80e003f70c",
        "colab": {
          "base_uri": "https://localhost:8080/",
          "height": 51
        }
      },
      "source": [
        "# Test your solution here\n",
        "reverse_words()\n"
      ],
      "execution_count": null,
      "outputs": [
        {
          "output_type": "stream",
          "text": [
            "Enter string of words:eeny meeny miny moe\n",
            "moe miny meeny eeny\n"
          ],
          "name": "stdout"
        }
      ]
    },
    {
      "cell_type": "markdown",
      "metadata": {
        "id": "NFSmRaSydBHq"
      },
      "source": [
        "*Exercise 10:* Write a guessing game program that will repeatedly guess a number that the users picks, with the user indicating higher or lower, until it correctly guesses the number."
      ]
    },
    {
      "cell_type": "code",
      "metadata": {
        "id": "Ie2E1JzCdBHr",
        "outputId": "a0e43676-2f95-40aa-d6c5-91b607dbb431",
        "colab": {
          "base_uri": "https://localhost:8080/",
          "height": 255
        }
      },
      "source": [
        "# Write you solution here\n",
        "def guess_game():\n",
        "    low = 0\n",
        "    high = 100\n",
        "    print('Please think of a number between 0 and 100!')\n",
        "    while True:\n",
        "        guess = (high + low)//2\n",
        "        print('Is your secret number ' + str(guess) + ' ?')\n",
        "        a = input(\"Enter 'h' to indicate the guess is too high. Enter 'l' to indicate the guess is too low. Enter 'c' to indicate I guessed correctly.\")\n",
        "        if a == 'c':\n",
        "            print('Game over. Your secret number was:', str(guess))\n",
        "            break\n",
        "        elif a == 'l':\n",
        "            low = guess\n",
        "        elif a == 'h':\n",
        "            high = guess\n",
        "        else:\n",
        "            print('Sorry, I did not understand your input.')\n",
        "guess_game()"
      ],
      "execution_count": null,
      "outputs": [
        {
          "output_type": "stream",
          "text": [
            "Please think of a number between 0 and 100!\n",
            "Is your secret number 50 ?\n",
            "Enter 'h' to indicate the guess is too high. Enter 'l' to indicate the guess is too low. Enter 'c' to indicate I guessed correctly.h\n",
            "Is your secret number 25 ?\n",
            "Enter 'h' to indicate the guess is too high. Enter 'l' to indicate the guess is too low. Enter 'c' to indicate I guessed correctly.h\n",
            "Is your secret number 12 ?\n",
            "Enter 'h' to indicate the guess is too high. Enter 'l' to indicate the guess is too low. Enter 'c' to indicate I guessed correctly.h\n",
            "Is your secret number 6 ?\n",
            "Enter 'h' to indicate the guess is too high. Enter 'l' to indicate the guess is too low. Enter 'c' to indicate I guessed correctly.l\n",
            "Is your secret number 9 ?\n",
            "Enter 'h' to indicate the guess is too high. Enter 'l' to indicate the guess is too low. Enter 'c' to indicate I guessed correctly.h\n",
            "Is your secret number 7 ?\n",
            "Enter 'h' to indicate the guess is too high. Enter 'l' to indicate the guess is too low. Enter 'c' to indicate I guessed correctly.c\n",
            "Game over. Your secret number was: 7\n"
          ],
          "name": "stdout"
        }
      ]
    },
    {
      "cell_type": "code",
      "metadata": {
        "id": "6T8YdWSMdBHs",
        "outputId": "40d7dc1e-1d7d-42af-e8ee-1d13735dcff2",
        "colab": {
          "base_uri": "https://localhost:8080/",
          "height": 289
        }
      },
      "source": [
        "# Test your solution here\n",
        "guess_game()"
      ],
      "execution_count": null,
      "outputs": [
        {
          "output_type": "stream",
          "text": [
            "Please think of a number between 0 and 100!\n",
            "Is your secret number 50 ?\n",
            "Enter 'h' to indicate the guess is too high. Enter 'l' to indicate the guess is too low. Enter 'c' to indicate I guessed correctly.l\n",
            "Is your secret number 75 ?\n",
            "Enter 'h' to indicate the guess is too high. Enter 'l' to indicate the guess is too low. Enter 'c' to indicate I guessed correctly.h\n",
            "Is your secret number 62 ?\n",
            "Enter 'h' to indicate the guess is too high. Enter 'l' to indicate the guess is too low. Enter 'c' to indicate I guessed correctly.h\n",
            "Is your secret number 56 ?\n",
            "Enter 'h' to indicate the guess is too high. Enter 'l' to indicate the guess is too low. Enter 'c' to indicate I guessed correctly.h\n",
            "Is your secret number 53 ?\n",
            "Enter 'h' to indicate the guess is too high. Enter 'l' to indicate the guess is too low. Enter 'c' to indicate I guessed correctly.l\n",
            "Is your secret number 54 ?\n",
            "Enter 'h' to indicate the guess is too high. Enter 'l' to indicate the guess is too low. Enter 'c' to indicate I guessed correctly.l\n",
            "Is your secret number 55 ?\n",
            "Enter 'h' to indicate the guess is too high. Enter 'l' to indicate the guess is too low. Enter 'c' to indicate I guessed correctly.c\n",
            "Game over. Your secret number was: 55\n"
          ],
          "name": "stdout"
        }
      ]
    }
  ]
}