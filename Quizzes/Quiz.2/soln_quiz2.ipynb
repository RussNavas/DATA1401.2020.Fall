{
  "nbformat": 4,
  "nbformat_minor": 0,
  "metadata": {
    "kernelspec": {
      "display_name": "Python 3",
      "language": "python",
      "name": "python3"
    },
    "language_info": {
      "codemirror_mode": {
        "name": "ipython",
        "version": 3
      },
      "file_extension": ".py",
      "mimetype": "text/x-python",
      "name": "python",
      "nbconvert_exporter": "python",
      "pygments_lexer": "ipython3",
      "version": "3.8.0"
    },
    "colab": {
      "name": "Copy of Quiz.2.ipynb",
      "provenance": [],
      "collapsed_sections": []
    }
  },
  "cells": [
    {
      "cell_type": "markdown",
      "metadata": {
        "id": "-6ZEacmEB9LU"
      },
      "source": [
        "# Quiz 2\n",
        "\n",
        "[![Open In Colab](https://colab.research.google.com/assets/colab-badge.svg)](https://colab.research.google.com/github/UTA-DataScience/DATA1401.2020.Fall/blob/master/Quizzes/Quiz.2/Quiz.2.ipynb)\n",
        "\n"
      ]
    },
    {
      "cell_type": "markdown",
      "metadata": {
        "id": "BSHdZ4LiB9LV"
      },
      "source": [
        "1. Using the python math and random libraries, implement the Box-Muller transform. This transform generates 2 random variables $Z_0$ and $Z_1$ that are Normal distributed from two uniformly distributed random variables $U_1$ and $U_2$ using the relation:\n",
        "\n",
        "\\begin{align}\n",
        "Z_0&=&\\sqrt{-2 \\log{U_1}} \\cos{(2\\pi U_2)}\\\\\n",
        "Z_1&=&\\sqrt{-2 \\log{U_1}} \\sin{(2\\pi U_2)}\\\\\n",
        "\\end{align}\n",
        "\n"
      ]
    },
    {
      "cell_type": "markdown",
      "metadata": {
        "id": "JlAopaTdB9LW"
      },
      "source": [
        "Recall that you can import the math and random libraries using:\n"
      ]
    },
    {
      "cell_type": "code",
      "metadata": {
        "id": "o0TN5OmZB9LW"
      },
      "source": [
        "import math\n",
        "import random"
      ],
      "execution_count": 1,
      "outputs": []
    },
    {
      "cell_type": "markdown",
      "metadata": {
        "id": "42oOiVcYB9La"
      },
      "source": [
        "The functions and variables you will need are:"
      ]
    },
    {
      "cell_type": "code",
      "metadata": {
        "id": "IeCCcFzpB9La",
        "outputId": "4762893f-e6a3-40cf-c28a-e6e59b618cbf",
        "colab": {
          "base_uri": "https://localhost:8080/",
          "height": 34
        }
      },
      "source": [
        "x = .1\n",
        "\n",
        "# Math\n",
        "math.pi\n",
        "math.sin(x)\n",
        "math.cos(x)\n",
        "math.log(x)\n",
        "math.sqrt(x)\n",
        "\n",
        "# Random\n",
        "random.random()"
      ],
      "execution_count": 10,
      "outputs": [
        {
          "output_type": "execute_result",
          "data": {
            "text/plain": [
              "0.5170312894530996"
            ]
          },
          "metadata": {
            "tags": []
          },
          "execution_count": 10
        }
      ]
    },
    {
      "cell_type": "markdown",
      "metadata": {
        "id": "4LT51aG-B9Le"
      },
      "source": [
        "Note that  math.log is the natural logarithm. Your solution should look like:"
      ]
    },
    {
      "cell_type": "code",
      "metadata": {
        "id": "qZUHUcVrB9Le"
      },
      "source": [
        "\n",
        "\n",
        "def generate_normal(N):\n",
        "    out = list() \n",
        "    # Write your solution here\n",
        "    u1 = random.random()\n",
        "    u2 = random.random()\n",
        "    z0 = math.sqrt(-2*math.log(u1))*math.cos(2*math.pi*u2)\n",
        "    z1 = math.sqrt(-2*math.log(u1))*math.sin(2*math.pi*u2)\n",
        "    for i in range (0,N):\n",
        "       out.append(z0) \n",
        "    return out\n",
        "\n"
      ],
      "execution_count": 21,
      "outputs": []
    },
    {
      "cell_type": "code",
      "metadata": {
        "id": "zuS7YioAE-HQ"
      },
      "source": [
        "generate_normal(1000)"
      ],
      "execution_count": null,
      "outputs": []
    },
    {
      "cell_type": "markdown",
      "metadata": {
        "id": "DuZpZDJXB9Lh"
      },
      "source": [
        "Where N is the number of values of the random variable to generate, and the return value out is a list containing N normal distributed values. \n"
      ]
    },
    {
      "cell_type": "markdown",
      "metadata": {
        "id": "oKn4zM01B9Lh"
      },
      "source": [
        "2. Test your code by generating 1000 normal distributed values and showing that the mean is 0 and variance is 1. You can use the following 2 functions:\n"
      ]
    },
    {
      "cell_type": "code",
      "metadata": {
        "id": "Mx3O31p_B9Li"
      },
      "source": [
        "def mean(x):\n",
        "    return sum(x)/float(len(x))\n",
        "\n",
        "def variance(x):\n",
        "    return sum(map(lambda y: y**2,x))/float(len(x))-mean(x)**2\n"
      ],
      "execution_count": 6,
      "outputs": []
    },
    {
      "cell_type": "markdown",
      "metadata": {
        "id": "azjYEnCqB9Lk"
      },
      "source": [
        "3. Submit your solutions to GitHub in same way as your labs/homework."
      ]
    },
    {
      "cell_type": "code",
      "metadata": {
        "id": "_B-hmvH7B9Ll",
        "outputId": "b83b827a-5173-48dd-81f4-b9937144b1c1",
        "colab": {
          "base_uri": "https://localhost:8080/",
          "height": 50
        }
      },
      "source": [
        "print(mean(generate_normal(1000)))\n",
        "\n",
        "print(variance(generate_normal(1000)))"
      ],
      "execution_count": 25,
      "outputs": [
        {
          "output_type": "stream",
          "text": [
            "1.0701579631277132\n",
            "1.7763568394002505e-14\n"
          ],
          "name": "stdout"
        }
      ]
    }
  ]
}