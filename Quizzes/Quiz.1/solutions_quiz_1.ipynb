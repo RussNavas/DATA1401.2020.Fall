{
  "nbformat": 4,
  "nbformat_minor": 0,
  "metadata": {
    "kernelspec": {
      "display_name": "Python 3",
      "language": "python",
      "name": "python3"
    },
    "language_info": {
      "codemirror_mode": {
        "name": "ipython",
        "version": 3
      },
      "file_extension": ".py",
      "mimetype": "text/x-python",
      "name": "python",
      "nbconvert_exporter": "python",
      "pygments_lexer": "ipython3",
      "version": "3.8.0"
    },
    "colab": {
      "name": "Copy of Quiz.1.ipynb",
      "provenance": []
    }
  },
  "cells": [
    {
      "cell_type": "markdown",
      "metadata": {
        "id": "oCVbPri5kcsJ"
      },
      "source": [
        "# Quiz 1\n",
        "\n",
        "[![Open In Colab](https://colab.research.google.com/assets/colab-badge.svg)](https://colab.research.google.com/github/UTA-DataScience/DATA1401.2020.Fall/blob/master/Quizzes/Quiz.1/Quiz.1.ipynb)\n",
        "\n",
        "\n",
        "\n",
        "\n",
        "1. Using the lists below, create a function (`make_deck`) that returns a list of the 52 cards in a usual playing card deck. Represent each card as a tuple (e.g. `('Clubs', 3)`). "
      ]
    },
    {
      "cell_type": "code",
      "metadata": {
        "id": "PIqFsw7vkcsL",
        "outputId": "465948c5-ec60-42b5-81da-b2abec1cb802",
        "colab": {
          "base_uri": "https://localhost:8080/",
          "height": 72
        }
      },
      "source": [
        "suits = [\"Clubs\", \"Diamonds\", \"Hearts\", \"Spades\"]\n",
        "values = list(range(2,11)) + [ \"Jack\", \"Queen\", \"King\", \"Ace\"]\n",
        "print(suits)\n",
        "print(values)"
      ],
      "execution_count": null,
      "outputs": [
        {
          "output_type": "stream",
          "text": [
            "['Clubs', 'Diamonds', 'Hearts', 'Spades']\n",
            "[2, 3, 4, 5, 6, 7, 8, 9, 10, 'Jack', 'Queen', 'King', 'Ace']\n"
          ],
          "name": "stdout"
        }
      ]
    },
    {
      "cell_type": "code",
      "metadata": {
        "id": "WNeig23ykcsR",
        "outputId": "ab876efd-8a96-4dae-dd64-cde49e572df3",
        "colab": {
          "base_uri": "https://localhost:8080/",
          "height": 55
        }
      },
      "source": [
        "# Your solution here\n",
        "\n",
        "def make_deck(suits,values):\n",
        "\n",
        "    def convert(list):\n",
        "     \n",
        "        return tuple(list)\n",
        "\n",
        "    deck = []\n",
        "    for suite in suits:\n",
        "        for value in values:\n",
        "            deck.append([suite,value])\n",
        "\n",
        "    deck = convert(deck)\n",
        "    return deck\n",
        "make_deck(suits,values)\n",
        "\n",
        "print(make_deck(suits,values))"
      ],
      "execution_count": null,
      "outputs": [
        {
          "output_type": "stream",
          "text": [
            "(['Clubs', 2], ['Clubs', 3], ['Clubs', 4], ['Clubs', 5], ['Clubs', 6], ['Clubs', 7], ['Clubs', 8], ['Clubs', 9], ['Clubs', 10], ['Clubs', 'Jack'], ['Clubs', 'Queen'], ['Clubs', 'King'], ['Clubs', 'Ace'], ['Diamonds', 2], ['Diamonds', 3], ['Diamonds', 4], ['Diamonds', 5], ['Diamonds', 6], ['Diamonds', 7], ['Diamonds', 8], ['Diamonds', 9], ['Diamonds', 10], ['Diamonds', 'Jack'], ['Diamonds', 'Queen'], ['Diamonds', 'King'], ['Diamonds', 'Ace'], ['Hearts', 2], ['Hearts', 3], ['Hearts', 4], ['Hearts', 5], ['Hearts', 6], ['Hearts', 7], ['Hearts', 8], ['Hearts', 9], ['Hearts', 10], ['Hearts', 'Jack'], ['Hearts', 'Queen'], ['Hearts', 'King'], ['Hearts', 'Ace'], ['Spades', 2], ['Spades', 3], ['Spades', 4], ['Spades', 5], ['Spades', 6], ['Spades', 7], ['Spades', 8], ['Spades', 9], ['Spades', 10], ['Spades', 'Jack'], ['Spades', 'Queen'], ['Spades', 'King'], ['Spades', 'Ace'])\n"
          ],
          "name": "stdout"
        }
      ]
    },
    {
      "cell_type": "code",
      "metadata": {
        "id": "3sQImHBqkcsW",
        "outputId": "cc8d2920-d725-4b97-87b4-d4e968fe05a4",
        "colab": {
          "base_uri": "https://localhost:8080/",
          "height": 55
        }
      },
      "source": [
        "# Test your solution here\n",
        "print(make_deck(suits,values))"
      ],
      "execution_count": null,
      "outputs": [
        {
          "output_type": "stream",
          "text": [
            "(['Clubs', 2], ['Clubs', 3], ['Clubs', 4], ['Clubs', 5], ['Clubs', 6], ['Clubs', 7], ['Clubs', 8], ['Clubs', 9], ['Clubs', 10], ['Clubs', 'Jack'], ['Clubs', 'Queen'], ['Clubs', 'King'], ['Clubs', 'Ace'], ['Diamonds', 2], ['Diamonds', 3], ['Diamonds', 4], ['Diamonds', 5], ['Diamonds', 6], ['Diamonds', 7], ['Diamonds', 8], ['Diamonds', 9], ['Diamonds', 10], ['Diamonds', 'Jack'], ['Diamonds', 'Queen'], ['Diamonds', 'King'], ['Diamonds', 'Ace'], ['Hearts', 2], ['Hearts', 3], ['Hearts', 4], ['Hearts', 5], ['Hearts', 6], ['Hearts', 7], ['Hearts', 8], ['Hearts', 9], ['Hearts', 10], ['Hearts', 'Jack'], ['Hearts', 'Queen'], ['Hearts', 'King'], ['Hearts', 'Ace'], ['Spades', 2], ['Spades', 3], ['Spades', 4], ['Spades', 5], ['Spades', 6], ['Spades', 7], ['Spades', 8], ['Spades', 9], ['Spades', 10], ['Spades', 'Jack'], ['Spades', 'Queen'], ['Spades', 'King'], ['Spades', 'Ace'])\n"
          ],
          "name": "stdout"
        }
      ]
    },
    {
      "cell_type": "markdown",
      "metadata": {
        "id": "Wc88VpJdkcsZ"
      },
      "source": [
        "2. Create the following functions that take in a list of [usually 5] cards (`hand`) and return True/False:\n",
        "    * `flush(hand)`: Checks if the cards in the hand are of the same suit.\n",
        "    * `straight(hand)`: Checks if the cards in the hand are in a order.\n",
        "        * You can start with just checking numerical cards.\n",
        "        * Extra Credit: Include all cards.\n",
        "    * `straight_flush(hand)`: Combination of both."
      ]
    },
    {
      "cell_type": "code",
      "metadata": {
        "id": "poyTfmVpkcsa",
        "outputId": "4b4db8c9-d32c-44a5-cfb9-7d42f70b662c",
        "colab": {
          "base_uri": "https://localhost:8080/",
          "height": 55
        }
      },
      "source": [
        "# Your solution here\n",
        "flush_hand = ['Clubs', 2], ['Clubs', 3], ['Clubs', 4], ['Clubs', 5], ['Clubs', 6]\n",
        "def hand_check(hand):\n",
        "    def flush(hand):\n",
        "        for card in hand:\n",
        "            if len(set(row)) == 1:\n",
        "                return row[0]\n",
        "    return 'flush'\n",
        "\n",
        "    def straight(hand):\n",
        "        previous = list[0]\n",
        "        for number in list:\n",
        "            if number < previous:\n",
        "                return False\n",
        "            previous = number\n",
        "        return 'straight'\n",
        "       \n",
        "print(hand_check(flush_hand))"
      ],
      "execution_count": null,
      "outputs": [
        {
          "output_type": "stream",
          "text": [
            "flush\n"
          ],
          "name": "stdout"
        }
      ]
    },
    {
      "cell_type": "code",
      "metadata": {
        "id": "VvrBVa7-kcsc"
      },
      "source": [
        "# Test your solution here"
      ],
      "execution_count": null,
      "outputs": []
    }
  ]
}